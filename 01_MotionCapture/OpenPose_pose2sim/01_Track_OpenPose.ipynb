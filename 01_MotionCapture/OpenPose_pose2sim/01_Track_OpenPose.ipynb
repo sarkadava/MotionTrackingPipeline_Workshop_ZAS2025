{
 "cells": [
  {
   "cell_type": "markdown",
   "metadata": {},
   "source": [
    "---\n",
    "title: \"How to build a motion tracking pipeline: 2D pose estimation via OpenPose\"\n",
    "authors: Šárka Kadavá\n",
    "---"
   ]
  },
  {
   "cell_type": "markdown",
   "metadata": {},
   "source": [
    "\n",
    "In this script, we will look into another way how to capture motion. \n",
    "\n",
    "There are some significant differences when compared to MediaPipe:\n",
    "\n",
    "- It requires GPU to run\n",
    "- It does **not** provide 3D pose estimation \n",
    "- It can track multiple people at once\n",
    "\n",
    "## Useful links\n",
    "\n",
    "Demo of this pipeline has been published on [EnvisionBOX](https://www.envisionbox.org/embedded_openpose_to_pose2sim_tracking.html)\n",
    "\n",
    "See [OpenPose documentation](https://github.com/CMU-Perceptual-Computing-Lab/openpose) for more information."
   ]
  },
  {
   "cell_type": "markdown",
   "metadata": {},
   "source": [
    "Once again, we first prepare our environment"
   ]
  },
  {
   "cell_type": "code",
   "execution_count": null,
   "metadata": {},
   "outputs": [],
   "source": [
    "import os\n",
    "import subprocess\n",
    "import glob\n",
    "import tempfile\n",
    "from IPython.display import Video\n",
    "import random\n",
    "\n",
    "curfolder = os.getcwd()\n",
    "\n",
    "# Openpose demo.exe location\n",
    "openposefol = curfolder+'/openpose/'\n",
    "openpose_demo_loc = openposefol + '/bin/OpenPoseDemo.exe'\n",
    "\n",
    "# This is the model to employ - with 135 keypoints\n",
    "model_to_employ = 'BODY_135'\n",
    "\n",
    "# List folders in a main folder\n",
    "folderstotrack = glob.glob(curfolder +'/projectdata/*')\n",
    "\n",
    "# Get all folders per participant, per session\n",
    "pcnfolders = []\n",
    "\n",
    "for i in folderstotrack:\n",
    "    pcn1folders = glob.glob(i + '/P0/*')\n",
    "    pcn2folders = glob.glob(i + '/P1/*')\n",
    "    pcnfolders_in_session = pcn1folders + pcn2folders\n",
    "\n",
    "    # Append to the list\n",
    "    pcnfolders = pcnfolders + pcnfolders_in_session\n",
    "\n",
    "# There might be some other things we don't want now\n",
    "pcnfolders = [x for x in pcnfolders if 'Config' not in x]\n",
    "\n",
    "print(pcnfolders[0:10])"
   ]
  },
  {
   "cell_type": "markdown",
   "metadata": {},
   "source": [
    "This time we will not use jupyter notebook as such, but we will 'send' a command into the terminal. "
   ]
  },
  {
   "cell_type": "code",
   "execution_count": null,
   "metadata": {},
   "outputs": [],
   "source": [
    "import subprocess\n",
    "\n",
    "def runcommand(command):\n",
    "    try:\n",
    "        result = subprocess.run(command, shell=True, check=True, stdout=subprocess.PIPE, stderr=subprocess.PIPE, text=True)\n",
    "        print(result.stdout)\n",
    "    except subprocess.CalledProcessError as e:\n",
    "        print(f\"Command execution failed with error code {e.returncode}\")\n",
    "        print(\"Standard Error Output:\", e.stderr)\n",
    "    except FileNotFoundError:\n",
    "        print(\"The OpenPoseDemo.exe executable was not found.\")\n"
   ]
  },
  {
   "cell_type": "code",
   "execution_count": null,
   "metadata": {},
   "outputs": [],
   "source": [
    "\n",
    "for i in pcnfolders:\n",
    "    os.chdir(openposefol)\n",
    "    print('working on ' + i)\n",
    "\n",
    "    # Identify all avi files in folder\n",
    "    direc = glob.glob(i + '/raw-2d/' +'*.avi')\n",
    "\n",
    "    # 3 cameras\n",
    "    video0 = direc[0]\n",
    "    video1 = direc[1]\n",
    "    video2 = direc[2]\n",
    "\n",
    "    videolist = [video0, video1, video2]\n",
    "    \n",
    "    # Make a new directory if it doesn't exist\n",
    "    if not os.path.exists(i+'/pose/'):\n",
    "        os.makedirs(i+'/pose/')\n",
    "    if not os.path.exists(i+'/pose/pose_cam1_json/'):\n",
    "        os.makedirs(i+'/pose/pose_cam1_json/')\n",
    "    if not os.path.exists(i+'/pose/pose_cam2_json/'):\n",
    "        os.makedirs(i+'/pose/pose_cam2_json/')\n",
    "    if not os.path.exists(i+'/pose/pose_cam3_json/'):\n",
    "        os.makedirs(i+'/pose/pose_cam3_json/')\n",
    "    \n",
    "\n",
    "    # Also make directory for openpose videos (pose-2d-trackingvideos)\n",
    "    if not os.path.exists(i+'/pose-2d-trackingvideos/'):\n",
    "        os.makedirs(i+'/pose-2d-trackingvideos/')\n",
    "\n",
    "    # Initialize the pose2 folder\n",
    "    outputfol1 = i+'/pose/pose_cam1_json/'\n",
    "    outputfol2 = i+'/pose/pose_cam2_json/'\n",
    "    outputfol3 = i+'/pose/pose_cam3_json/'\n",
    "\n",
    "    outputfollist = [outputfol1, outputfol2, outputfol3]\n",
    "\n",
    "    for it, j in enumerate(outputfollist):\n",
    "        # Prepare the command\n",
    "        openposelocation = f'\"{openpose_demo_loc}\" '\n",
    "        model = f'--model_pose {model_to_employ} '\n",
    "        video = f'--video \"{videolist[it]}\" '\n",
    "        todo = '--write_json '\n",
    "        outputfol = f'\"{j}\" '\n",
    "        videoadd = '--write_video '\n",
    "        videopath = f'\"{i}/pose-2d-trackingvideos/video{it}.avi\" '\n",
    "\n",
    "        # Construct the full command\n",
    "        command = f'{openposelocation}{model}{video}{todo}{outputfol}{videoadd}{videopath}'\n",
    "        \n",
    "        print('were going to send this to command prompt: ' + command)\n",
    "        runcommand(command)\n",
    "\n",
    "    "
   ]
  },
  {
   "cell_type": "markdown",
   "metadata": {},
   "source": [
    "Similarly to MediaPipe, we have videos with fitted body skeleton. Here is an example of the output:"
   ]
  },
  {
   "cell_type": "code",
   "execution_count": null,
   "metadata": {},
   "outputs": [],
   "source": [
    "# Create a temporary folder\n",
    "temp_dir = tempfile.mkdtemp()\n",
    "\n",
    "openposevideos = glob.glob(curfolder + '\\\\projectdata\\\\*\\\\*\\\\*\\\\pose-2d-trackingvideos\\\\*.avi', recursive=True)\n",
    "\n",
    "# Define input and output paths\n",
    "sample = random.choice(openposevideos)\n",
    "mp4_path = os.path.join(temp_dir, \"converted_audiovideo.mp4\")  # Save MP4 in temp folder\n",
    "\n",
    "# Convert AVI to MP4 with video and audio\n",
    "if not os.path.exists(mp4_path):\n",
    "    subprocess.run([\n",
    "        \"ffmpeg\", \"-i\", sample, \n",
    "        \"-vcodec\", \"libx264\", \"-acodec\", \"aac\", \"-b:a\", \"192k\",  # Ensure audio is included\n",
    "        \"-crf\", \"23\", \"-preset\", \"fast\", mp4_path\n",
    "    ])\n",
    "\n",
    "# Display the video inside Jupyter Notebook\n",
    "Video(mp4_path, embed=True, width=400)"
   ]
  },
  {
   "cell_type": "markdown",
   "metadata": {},
   "source": [
    "The results are saved in  /pose folder in json format. But we are not done yet, now we have 2D coordinates from 3 videos. Next step is to use pose2sim to convert these 2D coordinates into 3D coordinates."
   ]
  }
 ],
 "metadata": {
  "kernelspec": {
   "display_name": "Python 3",
   "language": "python",
   "name": "python3"
  },
  "language_info": {
   "codemirror_mode": {
    "name": "ipython",
    "version": 3
   },
   "file_extension": ".py",
   "mimetype": "text/x-python",
   "name": "python",
   "nbconvert_exporter": "python",
   "pygments_lexer": "ipython3",
   "version": "3.12.9"
  }
 },
 "nbformat": 4,
 "nbformat_minor": 2
}
