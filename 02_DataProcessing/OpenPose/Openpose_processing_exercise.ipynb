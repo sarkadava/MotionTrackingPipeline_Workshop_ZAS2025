{
 "cells": [
  {
   "cell_type": "markdown",
   "metadata": {},
   "source": [
    "---\n",
    "title: 'Data processing using OpenPose-pose2sim coordinates'\n",
    "---"
   ]
  },
  {
   "cell_type": "code",
   "execution_count": null,
   "metadata": {},
   "outputs": [],
   "source": [
    "# packages\n",
    "import os\n",
    "import glob\n",
    "import numpy as np\n",
    "import pandas as pd\n",
    "import matplotlib.pyplot as plt\n",
    "import scipy\n",
    "import random\n",
    "\n",
    "curfolder = os.getcwd()\n",
    "\n",
    "# files to work with\n",
    "mtfolder = curfolder + '\\\\..\\\\..\\\\01_MotionCapture\\\\OpenPose_pose2sim\\\\projectdata\\\\'\n",
    "\n",
    "# folders to save the processed data\n",
    "MTfolder_processed = curfolder + '\\\\TS_processed\\\\'\n",
    "\n",
    "# create the folder if it does not exist\n",
    "if not os.path.exists(MTfolder_processed):\n",
    "    os.makedirs(MTfolder_processed)"
   ]
  },
  {
   "cell_type": "code",
   "execution_count": null,
   "metadata": {},
   "outputs": [],
   "source": [
    "MTtotrack = glob.glob(mtfolder + '*/P*/*', recursive=True)\n",
    "\n",
    "# get rid of all the folders that are not the ones we want to track, like .sto files\n",
    "MTtotrack = [x for x in MTtotrack if 'txt' not in x]\n",
    "MTtotrack = [x for x in MTtotrack if 'toml' not in x]\n",
    "\n",
    "\n",
    "MTfiles_all = []\n",
    "\n",
    "for folder in MTtotrack:\n",
    "    # last element is trialid\n",
    "    trialid = folder.split('\\\\')[-1]\n",
    "    \n",
    "    # get all csv files in the folder\n",
    "    csvfiles = glob.glob(folder + '\\\\**\\\\*.csv', recursive=True)\n",
    "    # keep only the ones that have butterworth in the name - those are filtered with native Pose2sim function\n",
    "    csvfiles = [x for x in csvfiles if 'butterworth' in x]\n",
    "    butterfile = csvfiles[0]\n",
    "    # append to list with trialid\n",
    "    MTfiles_all.append([trialid, butterfile])"
   ]
  },
  {
   "cell_type": "markdown",
   "metadata": {},
   "source": [
    "Now you are ready with list *MTfiles_all* that contains all trial files. Try to proceed exactly as we did in the script using MediaPipe.\n",
    "\n",
    "You can reuse most of the functions if you do little adjustments. Start with one sample file, and when you do all steps necessary, you can start to build your loop."
   ]
  }
 ],
 "metadata": {
  "language_info": {
   "name": "python"
  }
 },
 "nbformat": 4,
 "nbformat_minor": 2
}
