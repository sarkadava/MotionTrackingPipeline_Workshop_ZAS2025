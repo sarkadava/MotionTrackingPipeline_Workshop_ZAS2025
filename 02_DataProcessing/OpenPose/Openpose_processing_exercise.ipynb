{
 "cells": [
  {
   "cell_type": "markdown",
   "metadata": {},
   "source": [
    "---\n",
    "title: 'Data processing using OpenPose-pose2sim coordinates'\n",
    "---"
   ]
  },
  {
   "cell_type": "code",
   "execution_count": 1,
   "metadata": {},
   "outputs": [],
   "source": [
    "# packages\n",
    "import os\n",
    "import glob\n",
    "import numpy as np\n",
    "import pandas as pd\n",
    "import matplotlib.pyplot as plt\n",
    "import scipy\n",
    "import random\n",
    "\n",
    "# Get the current working directory\n",
    "curfolder = os.getcwd()\n",
    "\n",
    "# Use os.path.join() to build paths in a platform-independent way\n",
    "mtfolder = os.path.join(curfolder, '..', '..', '01_MotionCapture', 'OpenPose_pose2sim', 'projectdata')\n",
    "\n",
    "# Define folder to save the processed data\n",
    "MTfolder_processed = os.path.join(curfolder, 'TS_processed')\n",
    "\n",
    "# Create the folder if it does not exist\n",
    "if not os.path.exists(MTfolder_processed):\n",
    "    os.makedirs(MTfolder_processed)"
   ]
  },
  {
   "cell_type": "code",
   "execution_count": 2,
   "metadata": {},
   "outputs": [
    {
     "data": {
      "text/plain": [
       "[['0_1_20_p0',\n",
       "  'c:\\\\Users\\\\kadava\\\\Documents\\\\Github\\\\MotionTrackingPipeline_Workshop_ZAS2025\\\\02_DataProcessing\\\\OpenPose\\\\..\\\\..\\\\01_MotionCapture\\\\OpenPose_pose2sim\\\\projectdata\\\\Session_0_1\\\\P0\\\\0_1_20_p0\\\\pose-3d\\\\0_1_20_p0_0-232_filt_butterworth.trc.csv'],\n",
       " ['0_1_21_p0',\n",
       "  'c:\\\\Users\\\\kadava\\\\Documents\\\\Github\\\\MotionTrackingPipeline_Workshop_ZAS2025\\\\02_DataProcessing\\\\OpenPose\\\\..\\\\..\\\\01_MotionCapture\\\\OpenPose_pose2sim\\\\projectdata\\\\Session_0_1\\\\P0\\\\0_1_21_p0\\\\pose-3d\\\\0_1_21_p0_0-215_filt_butterworth.trc.csv'],\n",
       " ['0_1_22_p0',\n",
       "  'c:\\\\Users\\\\kadava\\\\Documents\\\\Github\\\\MotionTrackingPipeline_Workshop_ZAS2025\\\\02_DataProcessing\\\\OpenPose\\\\..\\\\..\\\\01_MotionCapture\\\\OpenPose_pose2sim\\\\projectdata\\\\Session_0_1\\\\P0\\\\0_1_22_p0\\\\pose-3d\\\\0_1_22_p0_0-274_filt_butterworth.trc.csv'],\n",
       " ['0_1_23_p0',\n",
       "  'c:\\\\Users\\\\kadava\\\\Documents\\\\Github\\\\MotionTrackingPipeline_Workshop_ZAS2025\\\\02_DataProcessing\\\\OpenPose\\\\..\\\\..\\\\01_MotionCapture\\\\OpenPose_pose2sim\\\\projectdata\\\\Session_0_1\\\\P0\\\\0_1_23_p0\\\\pose-3d\\\\0_1_23_p0_0-231_filt_butterworth.trc.csv'],\n",
       " ['0_1_24_p0',\n",
       "  'c:\\\\Users\\\\kadava\\\\Documents\\\\Github\\\\MotionTrackingPipeline_Workshop_ZAS2025\\\\02_DataProcessing\\\\OpenPose\\\\..\\\\..\\\\01_MotionCapture\\\\OpenPose_pose2sim\\\\projectdata\\\\Session_0_1\\\\P0\\\\0_1_24_p0\\\\pose-3d\\\\0_1_24_p0_0-342_filt_butterworth.trc.csv'],\n",
       " ['0_1_25_p0',\n",
       "  'c:\\\\Users\\\\kadava\\\\Documents\\\\Github\\\\MotionTrackingPipeline_Workshop_ZAS2025\\\\02_DataProcessing\\\\OpenPose\\\\..\\\\..\\\\01_MotionCapture\\\\OpenPose_pose2sim\\\\projectdata\\\\Session_0_1\\\\P0\\\\0_1_25_p0\\\\pose-3d\\\\0_1_25_p0_0-370_filt_butterworth.trc.csv'],\n",
       " ['0_1_26_p0',\n",
       "  'c:\\\\Users\\\\kadava\\\\Documents\\\\Github\\\\MotionTrackingPipeline_Workshop_ZAS2025\\\\02_DataProcessing\\\\OpenPose\\\\..\\\\..\\\\01_MotionCapture\\\\OpenPose_pose2sim\\\\projectdata\\\\Session_0_1\\\\P0\\\\0_1_26_p0\\\\pose-3d\\\\0_1_26_p0_0-249_filt_butterworth.trc.csv'],\n",
       " ['0_1_29_p1',\n",
       "  'c:\\\\Users\\\\kadava\\\\Documents\\\\Github\\\\MotionTrackingPipeline_Workshop_ZAS2025\\\\02_DataProcessing\\\\OpenPose\\\\..\\\\..\\\\01_MotionCapture\\\\OpenPose_pose2sim\\\\projectdata\\\\Session_0_1\\\\P1\\\\0_1_29_p1\\\\pose-3d\\\\0_1_29_p1_0-261_filt_butterworth.trc.csv'],\n",
       " ['0_1_30_p1',\n",
       "  'c:\\\\Users\\\\kadava\\\\Documents\\\\Github\\\\MotionTrackingPipeline_Workshop_ZAS2025\\\\02_DataProcessing\\\\OpenPose\\\\..\\\\..\\\\01_MotionCapture\\\\OpenPose_pose2sim\\\\projectdata\\\\Session_0_1\\\\P1\\\\0_1_30_p1\\\\pose-3d\\\\0_1_30_p1_0-226_filt_butterworth.trc.csv'],\n",
       " ['0_1_31_p1',\n",
       "  'c:\\\\Users\\\\kadava\\\\Documents\\\\Github\\\\MotionTrackingPipeline_Workshop_ZAS2025\\\\02_DataProcessing\\\\OpenPose\\\\..\\\\..\\\\01_MotionCapture\\\\OpenPose_pose2sim\\\\projectdata\\\\Session_0_1\\\\P1\\\\0_1_31_p1\\\\pose-3d\\\\0_1_31_p1_0-230_filt_butterworth.trc.csv'],\n",
       " ['0_1_32_p1',\n",
       "  'c:\\\\Users\\\\kadava\\\\Documents\\\\Github\\\\MotionTrackingPipeline_Workshop_ZAS2025\\\\02_DataProcessing\\\\OpenPose\\\\..\\\\..\\\\01_MotionCapture\\\\OpenPose_pose2sim\\\\projectdata\\\\Session_0_1\\\\P1\\\\0_1_32_p1\\\\pose-3d\\\\0_1_32_p1_0-299_filt_butterworth.trc.csv'],\n",
       " ['0_1_33_p1',\n",
       "  'c:\\\\Users\\\\kadava\\\\Documents\\\\Github\\\\MotionTrackingPipeline_Workshop_ZAS2025\\\\02_DataProcessing\\\\OpenPose\\\\..\\\\..\\\\01_MotionCapture\\\\OpenPose_pose2sim\\\\projectdata\\\\Session_0_1\\\\P1\\\\0_1_33_p1\\\\pose-3d\\\\0_1_33_p1_0-333_filt_butterworth.trc.csv'],\n",
       " ['0_1_34_p1',\n",
       "  'c:\\\\Users\\\\kadava\\\\Documents\\\\Github\\\\MotionTrackingPipeline_Workshop_ZAS2025\\\\02_DataProcessing\\\\OpenPose\\\\..\\\\..\\\\01_MotionCapture\\\\OpenPose_pose2sim\\\\projectdata\\\\Session_0_1\\\\P1\\\\0_1_34_p1\\\\pose-3d\\\\0_1_34_p1_0-240_filt_butterworth.trc.csv'],\n",
       " ['0_1_35_p1',\n",
       "  'c:\\\\Users\\\\kadava\\\\Documents\\\\Github\\\\MotionTrackingPipeline_Workshop_ZAS2025\\\\02_DataProcessing\\\\OpenPose\\\\..\\\\..\\\\01_MotionCapture\\\\OpenPose_pose2sim\\\\projectdata\\\\Session_0_1\\\\P1\\\\0_1_35_p1\\\\pose-3d\\\\0_1_35_p1_0-310_filt_butterworth.trc.csv']]"
      ]
     },
     "execution_count": 2,
     "metadata": {},
     "output_type": "execute_result"
    }
   ],
   "source": [
    "# Use os.path.join() to handle path construction\n",
    "MTtotrack = glob.glob(os.path.join(mtfolder, '*', 'P*', '*'), recursive=True)\n",
    "\n",
    "# Filter out folders that are not the ones we want to track\n",
    "MTtotrack = [x for x in MTtotrack if 'txt' not in x]\n",
    "MTtotrack = [x for x in MTtotrack if 'toml' not in x]\n",
    "\n",
    "MTfiles_all = []\n",
    "\n",
    "for folder in MTtotrack:\n",
    "    # Last element is trialid (split using os.path.sep to ensure platform compatibility)\n",
    "    trialid = folder.split(os.path.sep)[-1]\n",
    "    \n",
    "    # Get all csv files in the folder\n",
    "    csvfiles = glob.glob(os.path.join(folder, '**', '*.csv'), recursive=True)\n",
    "    # Keep only the ones that have butterworth in the name\n",
    "    csvfiles = [x for x in csvfiles if 'butterworth' in x]\n",
    "    butterfile = csvfiles[0]  # Assuming there is at least one match\n",
    "    # Append to list with trialid\n",
    "    MTfiles_all.append([trialid, butterfile])\n",
    "\n",
    "MTfiles_all\n"
   ]
  },
  {
   "cell_type": "markdown",
   "metadata": {},
   "source": [
    "Now you are ready with list *MTfiles_all* that contains all trial files. Try to proceed exactly as we did in the script using MediaPipe.\n",
    "\n",
    "You can reuse most of the functions if you do little adjustments. Start with one sample file, and when you do all steps necessary, you can start to build your loop."
   ]
  }
 ],
 "metadata": {
  "kernelspec": {
   "display_name": "MTworkshop",
   "language": "python",
   "name": "python3"
  },
  "language_info": {
   "codemirror_mode": {
    "name": "ipython",
    "version": 3
   },
   "file_extension": ".py",
   "mimetype": "text/x-python",
   "name": "python",
   "nbconvert_exporter": "python",
   "pygments_lexer": "ipython3",
   "version": "3.12.9"
  }
 },
 "nbformat": 4,
 "nbformat_minor": 2
}
