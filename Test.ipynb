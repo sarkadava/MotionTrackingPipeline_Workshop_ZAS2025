{
 "cells": [
  {
   "cell_type": "code",
   "execution_count": null,
   "metadata": {},
   "outputs": [
    {
     "name": "stdout",
     "output_type": "stream",
     "text": [
      "numpy version:  1.26.4\n",
      "pandas version:  2.2.3\n",
      "mediapipe version:  0.10.21\n",
      "cv2 version:  4.11.0\n",
      "\n",
      "##################################################\n",
      "#                                                #\n",
      "#   You just made it through the most difficult  #\n",
      "#   part! Welcome to the workshop! 🎉           #\n",
      "#   See you on Wednesday!                        #\n",
      "#                                                #\n",
      "##################################################\n",
      "\n"
     ]
    }
   ],
   "source": [
    "import numpy\n",
    "import pandas\n",
    "import mediapipe\n",
    "import cv2\n",
    "\n",
    "# print versions of the packages\n",
    "print(\"numpy version: \", numpy.__version__)\n",
    "print(\"pandas version: \", pandas.__version__)\n",
    "print(\"mediapipe version: \", mediapipe.__version__)\n",
    "print(\"cv2 version: \", cv2.__version__)\n",
    "\n",
    "final_message = \"\"\"\n",
    "##################################################\n",
    "#                                                #\n",
    "#   You just made it through the most difficult  #\n",
    "#   part! Welcome to the workshop! 🎉           #\n",
    "#   See you on Wednesday!                        #\n",
    "#                                                #\n",
    "##################################################\n",
    "\"\"\"\n",
    "\n",
    "print(final_message)"
   ]
  }
 ],
 "metadata": {
  "kernelspec": {
   "display_name": "MTworkshop",
   "language": "python",
   "name": "python3"
  },
  "language_info": {
   "codemirror_mode": {
    "name": "ipython",
    "version": 3
   },
   "file_extension": ".py",
   "mimetype": "text/x-python",
   "name": "python",
   "nbconvert_exporter": "python",
   "pygments_lexer": "ipython3",
   "version": "3.12.9"
  }
 },
 "nbformat": 4,
 "nbformat_minor": 2
}
